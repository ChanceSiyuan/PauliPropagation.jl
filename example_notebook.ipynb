{
 "cells": [
  {
   "cell_type": "code",
   "execution_count": 1,
   "id": "647b2634",
   "metadata": {},
   "outputs": [
    {
     "name": "stderr",
     "output_type": "stream",
     "text": [
      "\u001b[32m\u001b[1mPrecompiling\u001b[22m\u001b[39m PauliPropagation\n",
      "\u001b[32m  ✓ \u001b[39mPauliPropagation\n",
      "  1 dependency successfully precompiled in 1 seconds. 10 already precompiled.\n"
     ]
    }
   ],
   "source": [
    "using Revise\n",
    "using PauliPropagation"
   ]
  },
  {
   "cell_type": "code",
   "execution_count": 2,
   "id": "6b7e0352",
   "metadata": {},
   "outputs": [
    {
     "data": {
      "text/plain": [
       "8"
      ]
     },
     "execution_count": 2,
     "metadata": {},
     "output_type": "execute_result"
    }
   ],
   "source": [
    "nq = 8"
   ]
  },
  {
   "cell_type": "code",
   "execution_count": 3,
   "id": "b8d96c9c",
   "metadata": {},
   "outputs": [
    {
     "name": "stdout",
     "output_type": "stream",
     "text": [
      "IIIZIIII\n"
     ]
    }
   ],
   "source": [
    "symbs = [:I for _ in 1:nq]\n",
    "symbs[round(Int, nq/2)] = :Z   # as symbol. Also works but is slower.\n",
    "\n",
    "obsint = symboltoint(symbs)  # for performance we work with bitoperations\n",
    "show(obsint, nq)"
   ]
  },
  {
   "cell_type": "code",
   "execution_count": 4,
   "id": "3b33e38c",
   "metadata": {},
   "outputs": [
    {
     "data": {
      "text/plain": [
       "124"
      ]
     },
     "execution_count": 4,
     "metadata": {},
     "output_type": "execute_result"
    }
   ],
   "source": [
    "nl = 4\n",
    "topo = bricklayertopology(nq; periodic=false)\n",
    "# topo = get2dtopology(4, 4)\n",
    "circ = hardwareefficientcircuit(nq, nl; topology=topo)\n",
    "fastcirc = tofastgates(circ)\n",
    "m = length(fastcirc)"
   ]
  },
  {
   "cell_type": "code",
   "execution_count": 5,
   "id": "0a8db20a",
   "metadata": {},
   "outputs": [],
   "source": [
    "using Random\n",
    "Random.seed!(42)\n",
    "thetas = randn(m);"
   ]
  },
  {
   "cell_type": "code",
   "execution_count": 6,
   "id": "84f77657",
   "metadata": {},
   "outputs": [],
   "source": [
    "W = Inf;                   # maximal operator weight.\n",
    "min_abs_coeff = 0;          # neglect small coefficients. Only for numerical and hybrid PP."
   ]
  },
  {
   "cell_type": "markdown",
   "id": "fc387343",
   "metadata": {},
   "source": [
    "#### Numerical Pauli Propagation\n",
    "Propagates numerical coefficients."
   ]
  },
  {
   "cell_type": "code",
   "execution_count": 7,
   "id": "dd37e3ec",
   "metadata": {},
   "outputs": [
    {
     "name": "stdout",
     "output_type": "stream",
     "text": [
      "  0.423178 seconds (686.31 k allocations: 50.730 MiB, 5.14% gc time, 73.99% compilation time)\n",
      "length(dnum) = 64452\n"
     ]
    },
    {
     "data": {
      "text/plain": [
       "0.03270457825165109"
      ]
     },
     "execution_count": 7,
     "metadata": {},
     "output_type": "execute_result"
    }
   ],
   "source": [
    "@time dnum = mergingbfs(fastcirc, obsint, thetas; max_weight=W, min_abs_coeff=min_abs_coeff);\n",
    "@show length(dnum)   # number of unique Pauli ops\n",
    "evalagainstzero(dnum) # expectation"
   ]
  },
  {
   "cell_type": "code",
   "execution_count": 8,
   "id": "266614dc",
   "metadata": {},
   "outputs": [
    {
     "name": "stdout",
     "output_type": "stream",
     "text": [
      "Dict{UInt16, Float64} with 64452 entries:\n",
      "  XZIIXXZX => 0.0006550291547293156\n",
      "  IIIXIIZY => -4.859870209231609e-7\n",
      "  YZZIYXZX => -0.00018262676667615688\n",
      "  ZXYYYXII => 0.005961755782095122\n",
      "  IZYZIIXY => 0.0009020582404861559\n",
      "  XXIIYZXI => 0.004495755588131953\n",
      "  IZZXIZYZ => -0.004345900860351217\n",
      "  YYXIYYYZ => 0.0018501555717484876\n",
      "  YZIXXZII => -0.0035136671430621674\n",
      "  IXIYIIZX => 0.003479054477339053\n",
      "  YIYZYIZZ => -1.4667805954951649e-5\n",
      "  IYZZZYYX => 0.0017093807533506405\n",
      "  XZZXZZYZ => -0.0023265852263534155\n",
      "  XIZZXXZZ => 0.0004591710404569854\n",
      "  ZZXZZXII => -0.004155086459294072\n",
      "  ZZYXYYYY => -0.0007206204203938528\n",
      "  XXXYIYXZ => -0.0012399669774994\n",
      "  XZYXIYYZ => -0.010345152142423328\n",
      "  IIIXZZXZ => -3.842916397610179e-5\n",
      "  XXXXZZXY => -0.0009745454859420705\n",
      "  ⋮\n"
     ]
    }
   ],
   "source": [
    "show(dnum)"
   ]
  },
  {
   "cell_type": "markdown",
   "id": "c4169f57",
   "metadata": {},
   "source": [
    "#### Hybrid Pauli Propagation\n",
    "Propagates numerical coefficients, but can but truncated like the surrogate."
   ]
  },
  {
   "cell_type": "code",
   "execution_count": 9,
   "id": "4959866b",
   "metadata": {},
   "outputs": [
    {
     "data": {
      "text/plain": [
       "Inf"
      ]
     },
     "execution_count": 9,
     "metadata": {},
     "output_type": "execute_result"
    }
   ],
   "source": [
    "max_freq = Inf   # max frequency, i.e., max number of sines and cosines per path"
   ]
  },
  {
   "cell_type": "code",
   "execution_count": 10,
   "id": "4d38e155",
   "metadata": {},
   "outputs": [
    {
     "name": "stdout",
     "output_type": "stream",
     "text": [
      "  0.266300 seconds (1.25 M allocations: 68.696 MiB, 2.46% gc time, 54.41% compilation time)\n",
      "length(dhyb) = 64452\n"
     ]
    },
    {
     "data": {
      "text/plain": [
       "0.03270457825165109"
      ]
     },
     "execution_count": 10,
     "metadata": {},
     "output_type": "execute_result"
    }
   ],
   "source": [
    "@time dhyb = mergingbfs(fastcirc, obsint, NumericPathProperties(1.0), thetas; max_weight=W, max_freq=Inf, min_abs_coeff=min_abs_coeff);\n",
    "@show length(dhyb)\n",
    "evalagainstzero(dhyb)"
   ]
  },
  {
   "cell_type": "code",
   "execution_count": 11,
   "id": "9c9a2ebc",
   "metadata": {},
   "outputs": [
    {
     "name": "stdout",
     "output_type": "stream",
     "text": [
      "Dict{UInt16, NumericPathProperties} with 64452 entries:\n",
      "  XZIIXXZX => NumericPathProperties(0.0006550291547293156, nsins=8, ncos=5, freq=26)\n",
      "  IIIXIIZY => NumericPathProperties(-4.859870209231609e-7, nsins=7, ncos=7, freq=28)\n",
      "  YZZIYXZX => NumericPathProperties(-0.00018262676667615688, nsins=8, ncos=4, freq=26)\n",
      "  ZXYYYXII => NumericPathProperties(0.005961755782095122, nsins=5, ncos=5, freq=23)\n",
      "  IZYZIIXY => NumericPathProperties(0.0009020582404861559, nsins=6, ncos=8, freq=29)\n",
      "  XXIIYZXI => NumericPathProperties(0.004495755588131953, nsins=9, ncos=8, freq=23)\n",
      "  IZZXIZYZ => NumericPathProperties(-0.004345900860351217, nsins=7, ncos=6, freq=28)\n",
      "  YYXIYYYZ => NumericPathProperties(0.0018501555717484876, nsins=7, ncos=6, freq=27)\n",
      "  YZIXXZII => NumericPathProperties(-0.0035136671430621674, nsins=7, ncos=5, freq=21)\n",
      "  IXIYIIZX => NumericPathProperties(0.003479054477339053, nsins=7, ncos=6, freq=27)\n",
      "  YIYZYIZZ => NumericPathProperties(-1.4667805954951649e-5, nsins=7, ncos=4, freq=27)\n",
      "  IYZZZYYX => NumericPathProperties(0.0017093807533506405, nsins=7, ncos=6, freq=29)\n",
      "  XZZXZZYZ => NumericPathProperties(-0.0023265852263534155, nsins=7, ncos=5, freq=28)\n",
      "  XIZZXXZZ => NumericPathProperties(0.0004591710404569854, nsins=8, ncos=4, freq=29)\n",
      "  ZZXZZXII => NumericPathProperties(-0.004155086459294072, nsins=6, ncos=4, freq=22)\n",
      "  ZZYXYYYY => NumericPathProperties(-0.0007206204203938528, nsins=7, ncos=6, freq=28)\n",
      "  XXXYIYXZ => NumericPathProperties(-0.0012399669774994, nsins=8, ncos=5, freq=26)\n",
      "  XZYXIYYZ => NumericPathProperties(-0.010345152142423328, nsins=9, ncos=4, freq=27)\n",
      "  IIIXZZXZ => NumericPathProperties(-3.842916397610179e-5, nsins=6, ncos=6, freq=26)\n",
      "  XXXXZZXY => NumericPathProperties(-0.0009745454859420705, nsins=7, ncos=6, freq=26)\n",
      "  ⋮\n"
     ]
    }
   ],
   "source": [
    "show(dhyb)"
   ]
  },
  {
   "cell_type": "markdown",
   "id": "1ee6086e",
   "metadata": {},
   "source": [
    "#### Pauli Propagation Surrogate\n",
    "Builds a graph that can later be evaluated."
   ]
  },
  {
   "cell_type": "code",
   "execution_count": 12,
   "id": "923e0c79",
   "metadata": {
    "scrolled": false
   },
   "outputs": [
    {
     "name": "stdout",
     "output_type": "stream",
     "text": [
      "  1.417593 seconds (15.90 M allocations: 857.028 MiB, 33.99% gc time, 19.46% compilation time)\n",
      "length(dsym) = 64452\n",
      "  0.107263 seconds (32.10 k allocations: 7.431 MiB, 30.67% compilation time)\n"
     ]
    },
    {
     "data": {
      "text/plain": [
       "399608"
      ]
     },
     "execution_count": 12,
     "metadata": {},
     "output_type": "execute_result"
    }
   ],
   "source": [
    "@time dsym = mergingbfs(circ, operatortopathdict(obsint), zeros(m); max_weight=W, max_freq=max_freq);\n",
    "@show length(dsym)\n",
    "\n",
    "final_nodes = collect(pth.coeff for (obs, pth) in zerofilter(dsym));\n",
    "final_eval_node = PauliGateNode(parents=final_nodes, trig_inds=zeros(Int, length(final_nodes)), signs=ones(length(final_nodes)), param_idx=1, cummulative_value=0.0);\n",
    "resetnodes(final_eval_node)\n",
    "resetnodes(final_eval_node)\n",
    "@time eval_list = gettraceevalorder(final_eval_node, zeros(m));\n",
    "length(eval_list)  # The list of all nodes. The order is such that one can savely be evaluated after the other."
   ]
  },
  {
   "cell_type": "code",
   "execution_count": 13,
   "id": "09f28dbd",
   "metadata": {},
   "outputs": [
    {
     "name": "stdout",
     "output_type": "stream",
     "text": [
      "  0.080449 seconds (62.00 k allocations: 4.309 MiB, 42.61% compilation time)\n"
     ]
    },
    {
     "data": {
      "text/plain": [
       "0.032704578251651115"
      ]
     },
     "execution_count": 13,
     "metadata": {},
     "output_type": "execute_result"
    }
   ],
   "source": [
    "@time expectation(eval_list, thetas)    # This is actually not always faster than numerical propagation, but in interesting cases it is by a lot.\n",
    "                                        # making this always at least as fast is work in progress. Graph traversal is hard."
   ]
  },
  {
   "cell_type": "code",
   "execution_count": null,
   "id": "cb9dfb45",
   "metadata": {},
   "outputs": [],
   "source": []
  },
  {
   "cell_type": "code",
   "execution_count": null,
   "id": "f6d07ff3",
   "metadata": {},
   "outputs": [],
   "source": []
  },
  {
   "cell_type": "code",
   "execution_count": null,
   "id": "a2b4d188",
   "metadata": {},
   "outputs": [],
   "source": []
  },
  {
   "cell_type": "code",
   "execution_count": 20,
   "id": "0b2856f5",
   "metadata": {},
   "outputs": [
    {
     "name": "stdout",
     "output_type": "stream",
     "text": [
      "YXXXXIII\n"
     ]
    }
   ],
   "source": [
    "show(setelement!(op, 1, 0x02))"
   ]
  },
  {
   "cell_type": "code",
   "execution_count": 42,
   "id": "db4980fc",
   "metadata": {},
   "outputs": [
    {
     "data": {
      "text/plain": [
       "Dict{Tuple{Symbol, Symbol}, Tuple{Int64, Symbol, Symbol}} with 16 entries:\n",
       "  (:X, :Z) => (1, :Y, :I)\n",
       "  (:Y, :Z) => (-1, :X, :I)\n",
       "  (:I, :X) => (1, :Z, :Y)\n",
       "  (:X, :X) => (1, :X, :X)\n",
       "  (:Y, :Y) => (1, :Y, :Y)\n",
       "  (:Y, :I) => (-1, :X, :Z)\n",
       "  (:I, :I) => (1, :I, :I)\n",
       "  (:Z, :Z) => (1, :Z, :Z)\n",
       "  (:X, :Y) => (1, :X, :Y)\n",
       "  (:I, :Y) => (-1, :Z, :X)\n",
       "  (:X, :I) => (1, :Y, :Z)\n",
       "  (:Z, :Y) => (-1, :I, :X)\n",
       "  (:Z, :I) => (1, :Z, :I)\n",
       "  (:Y, :X) => (1, :Y, :X)\n",
       "  (:I, :Z) => (1, :I, :Z)\n",
       "  (:Z, :X) => (1, :I, :Y)"
      ]
     },
     "execution_count": 42,
     "metadata": {},
     "output_type": "execute_result"
    }
   ],
   "source": [
    "ZZpihalf_relations = Dict(  # with transpose || with permutedims\n",
    "    (:I, :I) => (1, :I, :I),\n",
    "    (:I, :X) => (1, :Z, :Y),\n",
    "    (:I, :Y) => (-1, :Z, :X),\n",
    "    (:I, :Z) => (1, :I, :Z),\n",
    "    (:X, :I) => (1, :Y, :Z),\n",
    "    (:X, :X) => (1, :X, :X),\n",
    "    (:X, :Y) => (1, :X, :Y),\n",
    "    (:X, :Z) => (1, :Y, :I),\n",
    "    (:Y, :I) => (-1, :X, :Z),\n",
    "    (:Y, :X) => (1, :Y, :X),\n",
    "    (:Y, :Y) => (1, :Y, :Y),\n",
    "    (:Y, :Z) => (-1, :X, :I),\n",
    "    (:Z, :I) => (1, :Z, :I),\n",
    "    (:Z, :X) => (1, :I, :Y),\n",
    "    (:Z, :Y) => (-1, :I, :X),\n",
    "    (:Z, :Z) => (1, :Z, :Z),\n",
    ")"
   ]
  },
  {
   "cell_type": "code",
   "execution_count": 21,
   "id": "8c63849d",
   "metadata": {},
   "outputs": [
    {
     "data": {
      "text/plain": [
       "Dict{Tuple{Symbol, Symbol}, Tuple{Int64, Symbol, Symbol}} with 16 entries:\n",
       "  (:X, :Z) => (-1, :Y, :Y)\n",
       "  (:Y, :Z) => (1, :X, :Y)\n",
       "  (:I, :X) => (1, :I, :X)\n",
       "  (:X, :X) => (1, :X, :I)\n",
       "  (:Y, :Y) => (-1, :X, :Z)\n",
       "  (:Y, :I) => (1, :Y, :X)\n",
       "  (:I, :I) => (1, :I, :I)\n",
       "  (:Z, :Z) => (1, :I, :Z)\n",
       "  (:X, :Y) => (1, :Y, :Z)\n",
       "  (:I, :Y) => (1, :Z, :Y)\n",
       "  (:X, :I) => (1, :X, :X)\n",
       "  (:Z, :Y) => (1, :I, :Y)\n",
       "  (:Z, :I) => (1, :Z, :I)\n",
       "  (:Y, :X) => (1, :Y, :I)\n",
       "  (:I, :Z) => (1, :Z, :Z)\n",
       "  (:Z, :X) => (1, :Z, :X)"
      ]
     },
     "execution_count": 21,
     "metadata": {},
     "output_type": "execute_result"
    }
   ],
   "source": [
    "CNOT_relations = Dict(\n",
    "    (:I, :I) => (1, :I, :I),\n",
    "    (:I, :X) => (1, :I, :X),\n",
    "    (:I, :Y) => (1, :Z, :Y),\n",
    "    (:I, :Z) => (1, :Z, :Z),\n",
    "    (:X, :I) => (1, :X, :X),\n",
    "    (:X, :X) => (1, :X, :I),\n",
    "    (:X, :Y) => (1, :Y, :Z),\n",
    "    (:X, :Z) => (-1, :Y, :Y),\n",
    "    (:Y, :I) => (1, :Y, :X),\n",
    "    (:Y, :X) => (1, :Y, :I),\n",
    "    (:Y, :Y) => (-1, :X, :Z),\n",
    "    (:Y, :Z) => (1, :X, :Y),\n",
    "    (:Z, :I) => (1, :Z, :I),\n",
    "    (:Z, :X) => (1, :Z, :X),\n",
    "    (:Z, :Y) => (1, :I, :Y),\n",
    "    (:Z, :Z) => (1, :I, :Z),\n",
    ")"
   ]
  },
  {
   "cell_type": "code",
   "execution_count": 37,
   "id": "d03854cd",
   "metadata": {},
   "outputs": [],
   "source": [
    "new_rels = Dict()\n",
    "for (k, v) in CNOT_relations\n",
    "    new_rels[symboltoint(collect(k))] = (v[1], symboltoint([v[2], v[3]]))\n",
    "end"
   ]
  },
  {
   "cell_type": "code",
   "execution_count": 33,
   "id": "8474581d",
   "metadata": {},
   "outputs": [
    {
     "data": {
      "text/plain": [
       "Dict{Any, Any} with 16 entries:\n",
       "  0x05 => (1, 0x01)\n",
       "  0x0c => (1, 0x0f)\n",
       "  0x08 => (1, 0x0b)\n",
       "  0x01 => (1, 0x05)\n",
       "  0x00 => (1, 0x00)\n",
       "  0x06 => (1, 0x02)\n",
       "  0x0b => (1, 0x08)\n",
       "  0x09 => (1, 0x0e)\n",
       "  0x0e => (1, 0x09)\n",
       "  0x03 => (1, 0x03)\n",
       "  0x07 => (1, 0x07)\n",
       "  0x0d => (-1, 0x0a)\n",
       "  0x04 => (1, 0x04)\n",
       "  0x0f => (1, 0x0c)\n",
       "  0x02 => (1, 0x06)\n",
       "  0x0a => (-1, 0x0d)"
      ]
     },
     "execution_count": 33,
     "metadata": {},
     "output_type": "execute_result"
    }
   ],
   "source": [
    "new_rels"
   ]
  },
  {
   "cell_type": "code",
   "execution_count": 38,
   "id": "db07a52e",
   "metadata": {},
   "outputs": [
    {
     "data": {
      "text/plain": [
       "(1, 0x06)"
      ]
     },
     "execution_count": 38,
     "metadata": {},
     "output_type": "execute_result"
    }
   ],
   "source": [
    "default_clifford_map[:CNOT][0x03]"
   ]
  },
  {
   "cell_type": "code",
   "execution_count": 39,
   "id": "4ee87a49",
   "metadata": {},
   "outputs": [
    {
     "name": "stdout",
     "output_type": "stream",
     "text": [
      "Tuple{Int64, UInt8}[(1, 0x00), (1, 0x05), (1, 0x06), (1, 0x03), (1, 0x04), (1, 0x01), (1, 0x02), (1, 0x07), (1, 0x0b), (1, 0x0e), (-1, 0x0d), (1, 0x08), (1, 0x0f), (-1, 0x0a), (1, 0x09), (1, 0x0c)]"
     ]
    }
   ],
   "source": [
    "print([new_rels[ii] for ii in 0:15])"
   ]
  },
  {
   "cell_type": "code",
   "execution_count": 4,
   "id": "0e809e0f",
   "metadata": {},
   "outputs": [
    {
     "name": "stdout",
     "output_type": "stream",
     "text": [
      "IIIZIIII\n"
     ]
    }
   ],
   "source": [
    "show(obsint)"
   ]
  },
  {
   "cell_type": "code",
   "execution_count": 65,
   "id": "0efef4f6",
   "metadata": {},
   "outputs": [
    {
     "data": {
      "text/plain": [
       "CliffordGate(:CNOT, [1, 3])"
      ]
     },
     "execution_count": 65,
     "metadata": {},
     "output_type": "execute_result"
    }
   ],
   "source": [
    "g = CliffordGate(:CNOT, [1, 3])"
   ]
  },
  {
   "cell_type": "code",
   "execution_count": 97,
   "id": "cf2bfb52",
   "metadata": {},
   "outputs": [
    {
     "data": {
      "text/plain": [
       "0x22"
      ]
     },
     "execution_count": 97,
     "metadata": {},
     "output_type": "execute_result"
    }
   ],
   "source": [
    "op = symboltoint([:Y, :I, :Y, :I])"
   ]
  },
  {
   "cell_type": "code",
   "execution_count": 98,
   "id": "f3f043d7",
   "metadata": {},
   "outputs": [
    {
     "data": {
      "text/plain": [
       "(0x31, -1.0)"
      ]
     },
     "execution_count": 98,
     "metadata": {},
     "output_type": "execute_result"
    }
   ],
   "source": [
    "o, _ = apply(g, op)"
   ]
  },
  {
   "cell_type": "code",
   "execution_count": 99,
   "id": "55ca3aec",
   "metadata": {},
   "outputs": [
    {
     "name": "stdout",
     "output_type": "stream",
     "text": [
      "XIZI\n"
     ]
    }
   ],
   "source": [
    "show(o)"
   ]
  },
  {
   "cell_type": "code",
   "execution_count": 100,
   "id": "d0f3b085",
   "metadata": {},
   "outputs": [
    {
     "name": "stdout",
     "output_type": "stream",
     "text": [
      "YYII\n"
     ]
    }
   ],
   "source": [
    "lookup_op = PauliPropagation._extractlookupop(op, g.qinds)\n",
    "show(lookup_op)"
   ]
  },
  {
   "cell_type": "code",
   "execution_count": null,
   "id": "716a5f82",
   "metadata": {},
   "outputs": [],
   "source": []
  },
  {
   "cell_type": "code",
   "execution_count": 101,
   "id": "aebc24db",
   "metadata": {},
   "outputs": [
    {
     "name": "stdout",
     "output_type": "stream",
     "text": [
      "XZII\n"
     ]
    }
   ],
   "source": [
    "show(default_clifford_map[:CNOT][lookup_op+1][2])"
   ]
  },
  {
   "cell_type": "code",
   "execution_count": 102,
   "id": "f31ccddd",
   "metadata": {},
   "outputs": [
    {
     "data": {
      "text/plain": [
       "Dict{Tuple{Symbol, Symbol}, Tuple{Int64, Symbol, Symbol}} with 16 entries:\n",
       "  (:X, :Z) => (-1, :Y, :Y)\n",
       "  (:Y, :Z) => (1, :X, :Y)\n",
       "  (:I, :X) => (1, :I, :X)\n",
       "  (:X, :X) => (1, :X, :I)\n",
       "  (:Y, :Y) => (-1, :X, :Z)\n",
       "  (:Y, :I) => (1, :Y, :X)\n",
       "  (:I, :I) => (1, :I, :I)\n",
       "  (:Z, :Z) => (1, :I, :Z)\n",
       "  (:X, :Y) => (1, :Y, :Z)\n",
       "  (:I, :Y) => (1, :Z, :Y)\n",
       "  (:X, :I) => (1, :X, :X)\n",
       "  (:Z, :Y) => (1, :I, :Y)\n",
       "  (:Z, :I) => (1, :Z, :I)\n",
       "  (:Y, :X) => (1, :Y, :I)\n",
       "  (:I, :Z) => (1, :Z, :Z)\n",
       "  (:Z, :X) => (1, :Z, :X)"
      ]
     },
     "execution_count": 102,
     "metadata": {},
     "output_type": "execute_result"
    }
   ],
   "source": [
    "CNOT_relations = Dict(\n",
    "    (:I, :I) => (1, :I, :I),\n",
    "    (:I, :X) => (1, :I, :X),\n",
    "    (:I, :Y) => (1, :Z, :Y),\n",
    "    (:I, :Z) => (1, :Z, :Z),\n",
    "    (:X, :I) => (1, :X, :X),\n",
    "    (:X, :X) => (1, :X, :I),\n",
    "    (:X, :Y) => (1, :Y, :Z),\n",
    "    (:X, :Z) => (-1, :Y, :Y),\n",
    "    (:Y, :I) => (1, :Y, :X),\n",
    "    (:Y, :X) => (1, :Y, :I),\n",
    "    (:Y, :Y) => (-1, :X, :Z),\n",
    "    (:Y, :Z) => (1, :X, :Y),\n",
    "    (:Z, :I) => (1, :Z, :I),\n",
    "    (:Z, :X) => (1, :Z, :X),\n",
    "    (:Z, :Y) => (1, :I, :Y),\n",
    "    (:Z, :Z) => (1, :I, :Z),\n",
    ")"
   ]
  },
  {
   "cell_type": "code",
   "execution_count": null,
   "id": "636b83f6",
   "metadata": {},
   "outputs": [],
   "source": []
  }
 ],
 "metadata": {
  "kernelspec": {
   "display_name": "Julia 1.10.2",
   "language": "julia",
   "name": "julia-1.10"
  },
  "language_info": {
   "file_extension": ".jl",
   "mimetype": "application/julia",
   "name": "julia",
   "version": "1.10.2"
  }
 },
 "nbformat": 4,
 "nbformat_minor": 5
}
