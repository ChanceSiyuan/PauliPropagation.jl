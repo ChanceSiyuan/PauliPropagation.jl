{
 "cells": [
  {
   "cell_type": "code",
   "execution_count": 1,
   "id": "fc1204f7",
   "metadata": {},
   "outputs": [],
   "source": [
    "using Revise\n",
    "using PauliPropagation"
   ]
  },
  {
   "cell_type": "code",
   "execution_count": 2,
   "id": "8ca9e84e",
   "metadata": {},
   "outputs": [
    {
     "data": {
      "text/plain": [
       "8"
      ]
     },
     "execution_count": 2,
     "metadata": {},
     "output_type": "execute_result"
    }
   ],
   "source": [
    "nq = 8"
   ]
  },
  {
   "cell_type": "code",
   "execution_count": 3,
   "id": "1bff56a4",
   "metadata": {},
   "outputs": [
    {
     "name": "stdout",
     "output_type": "stream",
     "text": [
      "IIIZIIII\n"
     ]
    }
   ],
   "source": [
    "symbs = [:I for _ in 1:nq]\n",
    "symbs[round(Int, nq/2)] = :Z   # as symbol. Also works but is slower.\n",
    "\n",
    "obsint = symboltoint(symbs)  # for performance we work with bitoperations\n",
    "show(obsint, nq)"
   ]
  },
  {
   "cell_type": "code",
   "execution_count": 4,
   "id": "ad441536",
   "metadata": {},
   "outputs": [
    {
     "data": {
      "text/plain": [
       "124"
      ]
     },
     "execution_count": 4,
     "metadata": {},
     "output_type": "execute_result"
    }
   ],
   "source": [
    "nl = 4\n",
    "topo = bricklayertopology(nq; periodic=false)\n",
    "circ = hardwareefficientcircuit(nq, nl; topology=topo)\n",
    "fastcirc = tofastgates(circ)\n",
    "m = length(fastcirc)"
   ]
  },
  {
   "cell_type": "code",
   "execution_count": 5,
   "id": "ce82bbe2",
   "metadata": {},
   "outputs": [],
   "source": [
    "using Random\n",
    "Random.seed!(42)\n",
    "thetas = randn(m);"
   ]
  },
  {
   "cell_type": "code",
   "execution_count": 6,
   "id": "45641817",
   "metadata": {},
   "outputs": [],
   "source": [
    "W = Inf;                   # maximal operator weight.\n",
    "min_abs_coeff = 0;          # neglect small coefficients. Only for numerical PP."
   ]
  },
  {
   "cell_type": "code",
   "execution_count": 7,
   "id": "54b5d78a",
   "metadata": {},
   "outputs": [
    {
     "name": "stdout",
     "output_type": "stream",
     "text": [
      "  0.590894 seconds (723.55 k allocations: 51.781 MiB, 1.81% gc time, 84.78% compilation time)\n",
      "length(dnum) = 53247\n"
     ]
    },
    {
     "data": {
      "text/plain": [
       "53247"
      ]
     },
     "execution_count": 7,
     "metadata": {},
     "output_type": "execute_result"
    }
   ],
   "source": [
    "@time dnum = mergingbfs(fastcirc, obsint, thetas; max_weight=W, min_abs_coeff=min_abs_coeff);\n",
    "@show length(dnum)   # number of unique Pauli ops"
   ]
  },
  {
   "cell_type": "code",
   "execution_count": 8,
   "id": "821f0e3e",
   "metadata": {},
   "outputs": [
    {
     "data": {
      "text/plain": [
       "0.21720058439757214"
      ]
     },
     "execution_count": 8,
     "metadata": {},
     "output_type": "execute_result"
    }
   ],
   "source": [
    "evalagainstzero(dnum) # expectation"
   ]
  },
  {
   "cell_type": "code",
   "execution_count": null,
   "id": "d4fdd9a9",
   "metadata": {},
   "outputs": [],
   "source": []
  }
 ],
 "metadata": {
  "kernelspec": {
   "display_name": "Julia 1.10.2",
   "language": "julia",
   "name": "julia-1.10"
  },
  "language_info": {
   "file_extension": ".jl",
   "mimetype": "application/julia",
   "name": "julia",
   "version": "1.10.2"
  }
 },
 "nbformat": 4,
 "nbformat_minor": 5
}
