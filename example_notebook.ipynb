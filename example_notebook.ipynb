{
 "cells": [
  {
   "cell_type": "code",
   "execution_count": 1,
   "id": "e4090a1e",
   "metadata": {},
   "outputs": [
    {
     "name": "stderr",
     "output_type": "stream",
     "text": [
      "\u001b[32m\u001b[1mPrecompiling\u001b[22m\u001b[39m PauliPropagation\n",
      "\u001b[32m  ✓ \u001b[39mPauliPropagation\n",
      "  1 dependency successfully precompiled in 2 seconds. 10 already precompiled.\n"
     ]
    }
   ],
   "source": [
    "using Revise\n",
    "using PauliPropagation"
   ]
  },
  {
   "cell_type": "code",
   "execution_count": 2,
   "id": "d5cb26ab",
   "metadata": {},
   "outputs": [
    {
     "data": {
      "text/plain": [
       "8"
      ]
     },
     "execution_count": 2,
     "metadata": {},
     "output_type": "execute_result"
    }
   ],
   "source": [
    "nq = 8"
   ]
  },
  {
   "cell_type": "code",
   "execution_count": 3,
   "id": "f39a6af9",
   "metadata": {},
   "outputs": [
    {
     "name": "stdout",
     "output_type": "stream",
     "text": [
      "IIIZIIII\n"
     ]
    }
   ],
   "source": [
    "symbs = [:I for _ in 1:nq]\n",
    "symbs[round(Int, nq/2)] = :Z   # as symbol. Also works but is slower.\n",
    "\n",
    "obsint = symboltoint(symbs)  # for performance we work with bitoperations\n",
    "show(obsint, nq)"
   ]
  },
  {
   "cell_type": "code",
   "execution_count": 4,
   "id": "c1dc3172",
   "metadata": {},
   "outputs": [
    {
     "data": {
      "text/plain": [
       "124"
      ]
     },
     "execution_count": 4,
     "metadata": {},
     "output_type": "execute_result"
    }
   ],
   "source": [
    "nl = 4\n",
    "topo = bricklayertopology(nq; periodic=false)\n",
    "circ = hardwareefficientcircuit(nq, nl; topology=topo)\n",
    "fastcirc = tofastgates(circ)\n",
    "m = length(fastcirc)"
   ]
  },
  {
   "cell_type": "code",
   "execution_count": 5,
   "id": "ae2a31bf",
   "metadata": {},
   "outputs": [],
   "source": [
    "using Random\n",
    "Random.seed!(42)\n",
    "thetas = randn(m);"
   ]
  },
  {
   "cell_type": "code",
   "execution_count": 6,
   "id": "4384ae29",
   "metadata": {},
   "outputs": [],
   "source": [
    "W = Inf;                   # maximal operator weight.\n",
    "min_abs_coeff = 0;          # neglect small coefficients. Only for numerical and hybrid PP."
   ]
  },
  {
   "cell_type": "markdown",
   "id": "d13bf64a",
   "metadata": {},
   "source": [
    "#### Numerical Pauli Propagation\n",
    "Propagates numerical coefficients."
   ]
  },
  {
   "cell_type": "code",
   "execution_count": 7,
   "id": "3ae2631a",
   "metadata": {},
   "outputs": [
    {
     "name": "stdout",
     "output_type": "stream",
     "text": [
      "  0.625854 seconds (723.54 k allocations: 51.777 MiB, 3.62% gc time, 83.96% compilation time)\n",
      "length(dnum) = 53247\n"
     ]
    },
    {
     "data": {
      "text/plain": [
       "0.21720058439757214"
      ]
     },
     "execution_count": 7,
     "metadata": {},
     "output_type": "execute_result"
    }
   ],
   "source": [
    "@time dnum = mergingbfs(fastcirc, obsint, thetas; max_weight=W, min_abs_coeff=min_abs_coeff);\n",
    "@show length(dnum)   # number of unique Pauli ops\n",
    "evalagainstzero(dnum) # expectation"
   ]
  },
  {
   "cell_type": "markdown",
   "id": "8255d9a4",
   "metadata": {},
   "source": [
    "#### Hybrid Pauli Propagation\n",
    "Propagates numerical coefficients, but can but truncated like the surrogate."
   ]
  },
  {
   "cell_type": "code",
   "execution_count": 8,
   "id": "8215008d",
   "metadata": {},
   "outputs": [
    {
     "data": {
      "text/plain": [
       "Inf"
      ]
     },
     "execution_count": 8,
     "metadata": {},
     "output_type": "execute_result"
    }
   ],
   "source": [
    "max_freq = Inf   # max frequency, i.e., max number of sines and cosines per path"
   ]
  },
  {
   "cell_type": "code",
   "execution_count": 9,
   "id": "3716ce23",
   "metadata": {},
   "outputs": [
    {
     "name": "stdout",
     "output_type": "stream",
     "text": [
      "  0.414006 seconds (957.78 k allocations: 53.133 MiB, 2.56% gc time, 69.54% compilation time)\n",
      "length(dhyb) = 53247\n"
     ]
    },
    {
     "data": {
      "text/plain": [
       "0.21720058439757214"
      ]
     },
     "execution_count": 9,
     "metadata": {},
     "output_type": "execute_result"
    }
   ],
   "source": [
    "@time dhyb = mergingbfs(fastcirc, obsint, NumericPathProperties(1.0), thetas; max_weight=W, max_freq=Inf, min_abs_coeff=min_abs_coeff);\n",
    "@show length(dhyb)\n",
    "evalagainstzero(dhyb)"
   ]
  },
  {
   "cell_type": "markdown",
   "id": "52f5296e",
   "metadata": {},
   "source": [
    "#### Pauli Propagation Surrogate\n",
    "Builds a graph that can later be evaluated."
   ]
  },
  {
   "cell_type": "code",
   "execution_count": 10,
   "id": "c22e0f66",
   "metadata": {},
   "outputs": [
    {
     "name": "stdout",
     "output_type": "stream",
     "text": [
      "  1.392057 seconds (11.50 M allocations: 620.592 MiB, 18.93% gc time, 34.59% compilation time)\n",
      "length(dsym) = 53247\n",
      "  0.112288 seconds (32.47 k allocations: 5.191 MiB, 51.63% compilation time)\n"
     ]
    },
    {
     "data": {
      "text/plain": [
       "225500"
      ]
     },
     "execution_count": 10,
     "metadata": {},
     "output_type": "execute_result"
    }
   ],
   "source": [
    "@time dsym = mergingbfs(circ, operatortopathdict(obsint), zeros(m); max_weight=W, max_freq=max_freq);\n",
    "@show length(dsym)\n",
    "\n",
    "final_nodes = collect(pth.coeff for (obs, pth) in zerofilter(dsym));\n",
    "final_eval_node = PauliGateNode(parents=final_nodes, trig_inds=zeros(Int, length(final_nodes)), signs=ones(length(final_nodes)), param_idx=1, cummulative_value=0.0);\n",
    "resetnodes(final_eval_node)\n",
    "resetnodes(final_eval_node)\n",
    "@time eval_list = gettraceevalorder(final_eval_node, zeros(m));\n",
    "length(eval_list)  # The list of all nodes. The order is such that one can savely be evaluated after the other."
   ]
  },
  {
   "cell_type": "code",
   "execution_count": 11,
   "id": "261a657f",
   "metadata": {},
   "outputs": [
    {
     "name": "stdout",
     "output_type": "stream",
     "text": [
      "  0.096164 seconds (62.00 k allocations: 4.309 MiB, 57.30% compilation time)\n"
     ]
    },
    {
     "data": {
      "text/plain": [
       "0.2172005843975723"
      ]
     },
     "execution_count": 11,
     "metadata": {},
     "output_type": "execute_result"
    }
   ],
   "source": [
    "@time expectation(eval_list, thetas)    # This is actually not always faster than numerical propagation, but in interesting cases it is by a lot.\n",
    "                                        # making this always at least as fast is work in progress. Graph traversal is hard."
   ]
  },
  {
   "cell_type": "code",
   "execution_count": null,
   "id": "0a2a11d5",
   "metadata": {},
   "outputs": [],
   "source": []
  }
 ],
 "metadata": {
  "kernelspec": {
   "display_name": "Julia 1.10.2",
   "language": "julia",
   "name": "julia-1.10"
  },
  "language_info": {
   "file_extension": ".jl",
   "mimetype": "application/julia",
   "name": "julia",
   "version": "1.10.2"
  }
 },
 "nbformat": 4,
 "nbformat_minor": 5
}
